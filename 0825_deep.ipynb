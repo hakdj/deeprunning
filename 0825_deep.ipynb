{
  "nbformat": 4,
  "nbformat_minor": 0,
  "metadata": {
    "colab": {
      "name": "0825_deep.ipynb",
      "provenance": [],
      "authorship_tag": "ABX9TyPJ0djvE8OG9LCava3E4Wak",
      "include_colab_link": true
    },
    "kernelspec": {
      "name": "python3",
      "display_name": "Python 3"
    },
    "language_info": {
      "name": "python"
    }
  },
  "cells": [
    {
      "cell_type": "markdown",
      "metadata": {
        "id": "view-in-github",
        "colab_type": "text"
      },
      "source": [
        "<a href=\"https://colab.research.google.com/github/hakdj/deeprunning/blob/master/0825_deep.ipynb\" target=\"_parent\"><img src=\"https://colab.research.google.com/assets/colab-badge.svg\" alt=\"Open In Colab\"/></a>"
      ]
    },
    {
      "cell_type": "code",
      "metadata": {
        "id": "3YQOKixp9Kuz"
      },
      "source": [
        "from tensorflow.keras.datasets import imdb"
      ],
      "execution_count": 1,
      "outputs": []
    },
    {
      "cell_type": "code",
      "metadata": {
        "colab": {
          "base_uri": "https://localhost:8080/"
        },
        "id": "LB9twkVJ9XQf",
        "outputId": "49160a07-7e5a-4e39-def5-f41b4eb6b486"
      },
      "source": [
        "vocab_size=2000\n",
        "(x_train,y_train),(x_test,y_test)=imdb.load_data(num_words=vocab_size)\n",
        "x_train.shape,y_train.shape,x_test.shape,y_test.shape\n"
      ],
      "execution_count": 2,
      "outputs": [
        {
          "output_type": "stream",
          "text": [
            "Downloading data from https://storage.googleapis.com/tensorflow/tf-keras-datasets/imdb.npz\n",
            "17465344/17464789 [==============================] - 0s 0us/step\n",
            "17473536/17464789 [==============================] - 0s 0us/step\n"
          ],
          "name": "stdout"
        },
        {
          "output_type": "execute_result",
          "data": {
            "text/plain": [
              "((25000,), (25000,), (25000,), (25000,))"
            ]
          },
          "metadata": {},
          "execution_count": 2
        }
      ]
    },
    {
      "cell_type": "code",
      "metadata": {
        "colab": {
          "base_uri": "https://localhost:8080/"
        },
        "id": "f2gNEa4H9uNe",
        "outputId": "47cd39d9-2275-4002-e164-9276bd6ef0c3"
      },
      "source": [
        "print(x_train[1])"
      ],
      "execution_count": 4,
      "outputs": [
        {
          "output_type": "stream",
          "text": [
            "[1, 194, 1153, 194, 2, 78, 228, 5, 6, 1463, 2, 2, 134, 26, 4, 715, 8, 118, 1634, 14, 394, 20, 13, 119, 954, 189, 102, 5, 207, 110, 2, 21, 14, 69, 188, 8, 30, 23, 7, 4, 249, 126, 93, 4, 114, 9, 2, 1523, 5, 647, 4, 116, 9, 35, 2, 4, 229, 9, 340, 1322, 4, 118, 9, 4, 130, 2, 19, 4, 1002, 5, 89, 29, 952, 46, 37, 4, 455, 9, 45, 43, 38, 1543, 1905, 398, 4, 1649, 26, 2, 5, 163, 11, 2, 2, 4, 1153, 9, 194, 775, 7, 2, 2, 349, 2, 148, 605, 2, 2, 15, 123, 125, 68, 2, 2, 15, 349, 165, 2, 98, 5, 4, 228, 9, 43, 2, 1157, 15, 299, 120, 5, 120, 174, 11, 220, 175, 136, 50, 9, 2, 228, 2, 5, 2, 656, 245, 2, 5, 4, 2, 131, 152, 491, 18, 2, 32, 2, 1212, 14, 9, 6, 371, 78, 22, 625, 64, 1382, 9, 8, 168, 145, 23, 4, 1690, 15, 16, 4, 1355, 5, 28, 6, 52, 154, 462, 33, 89, 78, 285, 16, 145, 95]\n"
          ],
          "name": "stdout"
        }
      ]
    },
    {
      "cell_type": "code",
      "metadata": {
        "id": "eLr6pyvA9yKW"
      },
      "source": [
        "import numpy as np\n"
      ],
      "execution_count": 5,
      "outputs": []
    },
    {
      "cell_type": "code",
      "metadata": {
        "colab": {
          "base_uri": "https://localhost:8080/"
        },
        "id": "_dK6R-0Q-Nx_",
        "outputId": "3304b8f3-ac39-43dc-c7e9-91838ea8aaa5"
      },
      "source": [
        "len(x_train[1]),len(x_train[200])"
      ],
      "execution_count": 6,
      "outputs": [
        {
          "output_type": "execute_result",
          "data": {
            "text/plain": [
              "(189, 160)"
            ]
          },
          "metadata": {},
          "execution_count": 6
        }
      ]
    },
    {
      "cell_type": "code",
      "metadata": {
        "id": "CTXNjE17-SeW"
      },
      "source": [
        "from tensorflow.keras.preprocessing.sequence import pad_sequences"
      ],
      "execution_count": 9,
      "outputs": []
    },
    {
      "cell_type": "code",
      "metadata": {
        "id": "dewkV8u4-t62"
      },
      "source": [
        "X_train=pad_sequences(x_train,maxlen=300)"
      ],
      "execution_count": 10,
      "outputs": []
    },
    {
      "cell_type": "code",
      "metadata": {
        "colab": {
          "base_uri": "https://localhost:8080/"
        },
        "id": "vRntRN97AMF_",
        "outputId": "d6ff38e9-3319-49d1-be10-5308de623694"
      },
      "source": [
        "np.unique(y_train)"
      ],
      "execution_count": 13,
      "outputs": [
        {
          "output_type": "execute_result",
          "data": {
            "text/plain": [
              "array([0, 1])"
            ]
          },
          "metadata": {},
          "execution_count": 13
        }
      ]
    },
    {
      "cell_type": "code",
      "metadata": {
        "id": "se_qpvaw-3nG"
      },
      "source": [
        "import tensorflow as tf"
      ],
      "execution_count": 11,
      "outputs": []
    },
    {
      "cell_type": "markdown",
      "metadata": {
        "id": "FkBCk95X--KZ"
      },
      "source": [
        "학습 모델 만들기"
      ]
    },
    {
      "cell_type": "code",
      "metadata": {
        "id": "wgPofJWD-62W"
      },
      "source": [
        "model=tf.keras.models.Sequential()\n",
        "\n",
        "\n",
        "model.add(tf.keras.layers.Embedding(input_dim=vocab_size, output_dim=50, input_length=300)) # input\n",
        "model.add(tf.keras.layers.GlobalAveragePooling1D()) # hidden # 이게 바로 딮러닝에서는 평균 벡터라이즈드 된것에 대한 평균 레이어\n",
        "model.add(tf.keras.layers.Dense(1, activation='sigmoid')) # output\n",
        "\n",
        "\n",
        "model.compile(optimizer='adam',loss='binary_crossentropy')"
      ],
      "execution_count": 14,
      "outputs": []
    },
    {
      "cell_type": "code",
      "metadata": {
        "colab": {
          "base_uri": "https://localhost:8080/"
        },
        "id": "42nKDua9_EJO",
        "outputId": "82775265-9a6f-4ffd-a01a-6a40dacf5ae8"
      },
      "source": [
        "hist = model.fit(X_train,y_train,epochs=10,batch_size=128,validation_split=0.2)"
      ],
      "execution_count": 15,
      "outputs": [
        {
          "output_type": "stream",
          "text": [
            "Epoch 1/10\n",
            "157/157 [==============================] - 3s 12ms/step - loss: 0.6813 - val_loss: 0.6600\n",
            "Epoch 2/10\n",
            "157/157 [==============================] - 2s 11ms/step - loss: 0.6278 - val_loss: 0.5885\n",
            "Epoch 3/10\n",
            "157/157 [==============================] - 2s 11ms/step - loss: 0.5543 - val_loss: 0.5186\n",
            "Epoch 4/10\n",
            "157/157 [==============================] - 2s 11ms/step - loss: 0.4881 - val_loss: 0.4655\n",
            "Epoch 5/10\n",
            "157/157 [==============================] - 2s 11ms/step - loss: 0.4371 - val_loss: 0.4238\n",
            "Epoch 6/10\n",
            "157/157 [==============================] - 2s 11ms/step - loss: 0.3998 - val_loss: 0.3962\n",
            "Epoch 7/10\n",
            "157/157 [==============================] - 2s 11ms/step - loss: 0.3723 - val_loss: 0.3761\n",
            "Epoch 8/10\n",
            "157/157 [==============================] - 2s 11ms/step - loss: 0.3518 - val_loss: 0.3614\n",
            "Epoch 9/10\n",
            "157/157 [==============================] - 2s 11ms/step - loss: 0.3358 - val_loss: 0.3504\n",
            "Epoch 10/10\n",
            "157/157 [==============================] - 2s 11ms/step - loss: 0.3227 - val_loss: 0.3420\n"
          ],
          "name": "stdout"
        }
      ]
    },
    {
      "cell_type": "code",
      "metadata": {
        "colab": {
          "base_uri": "https://localhost:8080/"
        },
        "id": "gPEkObThBNOO",
        "outputId": "bd546599-cb25-4847-b61f-652b7ff0e4cb"
      },
      "source": [
        "model.predict(X_train[5:6])"
      ],
      "execution_count": 16,
      "outputs": [
        {
          "output_type": "execute_result",
          "data": {
            "text/plain": [
              "array([[0.42596295]], dtype=float32)"
            ]
          },
          "metadata": {},
          "execution_count": 16
        }
      ]
    },
    {
      "cell_type": "markdown",
      "metadata": {
        "id": "RyiQ5EOkDE4S"
      },
      "source": [
        "### Callback EarlyStopping"
      ]
    },
    {
      "cell_type": "code",
      "metadata": {
        "colab": {
          "base_uri": "https://localhost:8080/"
        },
        "id": "nw8vE_HaBczd",
        "outputId": "27532524-0660-432b-9eb0-58c1eb05f68e"
      },
      "source": [
        "es=tf.keras.callbacks.EarlyStopping(monitor='val_loss',patience=4,mode='min',verbose=1)\n",
        "es"
      ],
      "execution_count": 18,
      "outputs": [
        {
          "output_type": "execute_result",
          "data": {
            "text/plain": [
              "<keras.callbacks.EarlyStopping at 0x7f8fca95af90>"
            ]
          },
          "metadata": {},
          "execution_count": 18
        }
      ]
    },
    {
      "cell_type": "code",
      "metadata": {
        "colab": {
          "base_uri": "https://localhost:8080/"
        },
        "id": "2oa1DWNLEImd",
        "outputId": "976eb849-e243-4239-d539-aa88a7ecb2d1"
      },
      "source": [
        "hist = model.fit(X_train,y_train,epochs=20,batch_size=128,validation_split=0.2, callbacks=[es])"
      ],
      "execution_count": 19,
      "outputs": [
        {
          "output_type": "stream",
          "text": [
            "Epoch 1/20\n",
            "157/157 [==============================] - 2s 11ms/step - loss: 0.3125 - val_loss: 0.3352\n",
            "Epoch 2/20\n",
            "157/157 [==============================] - 2s 11ms/step - loss: 0.3038 - val_loss: 0.3299\n",
            "Epoch 3/20\n",
            "157/157 [==============================] - 2s 11ms/step - loss: 0.2959 - val_loss: 0.3251\n",
            "Epoch 4/20\n",
            "157/157 [==============================] - 2s 11ms/step - loss: 0.2892 - val_loss: 0.3218\n",
            "Epoch 5/20\n",
            "157/157 [==============================] - 2s 11ms/step - loss: 0.2834 - val_loss: 0.3188\n",
            "Epoch 6/20\n",
            "157/157 [==============================] - 2s 11ms/step - loss: 0.2784 - val_loss: 0.3163\n",
            "Epoch 7/20\n",
            "157/157 [==============================] - 2s 11ms/step - loss: 0.2737 - val_loss: 0.3157\n",
            "Epoch 8/20\n",
            "157/157 [==============================] - 2s 11ms/step - loss: 0.2696 - val_loss: 0.3130\n",
            "Epoch 9/20\n",
            "157/157 [==============================] - 2s 11ms/step - loss: 0.2663 - val_loss: 0.3117\n",
            "Epoch 10/20\n",
            "157/157 [==============================] - 2s 11ms/step - loss: 0.2628 - val_loss: 0.3106\n",
            "Epoch 11/20\n",
            "157/157 [==============================] - 2s 11ms/step - loss: 0.2600 - val_loss: 0.3108\n",
            "Epoch 12/20\n",
            "157/157 [==============================] - 2s 11ms/step - loss: 0.2571 - val_loss: 0.3101\n",
            "Epoch 13/20\n",
            "157/157 [==============================] - 2s 11ms/step - loss: 0.2545 - val_loss: 0.3115\n",
            "Epoch 14/20\n",
            "157/157 [==============================] - 2s 11ms/step - loss: 0.2523 - val_loss: 0.3101\n",
            "Epoch 15/20\n",
            "157/157 [==============================] - 2s 11ms/step - loss: 0.2502 - val_loss: 0.3108\n",
            "Epoch 16/20\n",
            "157/157 [==============================] - 2s 11ms/step - loss: 0.2482 - val_loss: 0.3105\n",
            "Epoch 17/20\n",
            "157/157 [==============================] - 2s 11ms/step - loss: 0.2467 - val_loss: 0.3112\n",
            "Epoch 18/20\n",
            "157/157 [==============================] - 2s 11ms/step - loss: 0.2447 - val_loss: 0.3140\n",
            "Epoch 00018: early stopping\n"
          ],
          "name": "stdout"
        }
      ]
    },
    {
      "cell_type": "markdown",
      "metadata": {
        "id": "yE1x3gc9Elvm"
      },
      "source": [
        "#### 위 상태가 밸리데이션 로스가 바뀌귀 전, 과적합이 되기 전\n",
        "\n"
      ]
    },
    {
      "cell_type": "code",
      "metadata": {
        "id": "GtbHqs5zElnH"
      },
      "source": [
        ""
      ],
      "execution_count": null,
      "outputs": []
    },
    {
      "cell_type": "code",
      "metadata": {
        "id": "cvW0gcQvEbbl"
      },
      "source": [
        ""
      ],
      "execution_count": null,
      "outputs": []
    }
  ]
}