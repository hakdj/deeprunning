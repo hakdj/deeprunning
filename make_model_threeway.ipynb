{
  "nbformat": 4,
  "nbformat_minor": 0,
  "metadata": {
    "colab": {
      "name": "make_model_threeway.ipynb",
      "provenance": [],
      "authorship_tag": "ABX9TyO4grB0cAb7fPgtHFy7cHDR",
      "include_colab_link": true
    },
    "kernelspec": {
      "name": "python3",
      "display_name": "Python 3"
    },
    "language_info": {
      "name": "python"
    }
  },
  "cells": [
    {
      "cell_type": "markdown",
      "metadata": {
        "id": "view-in-github",
        "colab_type": "text"
      },
      "source": [
        "<a href=\"https://colab.research.google.com/github/hakdj/deeprunning/blob/master/make_model_threeway.ipynb\" target=\"_parent\"><img src=\"https://colab.research.google.com/assets/colab-badge.svg\" alt=\"Open In Colab\"/></a>"
      ]
    },
    {
      "cell_type": "markdown",
      "metadata": {
        "id": "Ced3v7yZXHAk"
      },
      "source": [
        "## Function API"
      ]
    },
    {
      "cell_type": "code",
      "metadata": {
        "id": "2Z0aE_-yW9ol"
      },
      "source": [
        "import tensorflow as tf"
      ],
      "execution_count": 1,
      "outputs": []
    },
    {
      "cell_type": "code",
      "metadata": {
        "id": "fJUwVcEhXNQ1"
      },
      "source": [
        "inputs= tf.keras.Input(shape=(2,))"
      ],
      "execution_count": 3,
      "outputs": []
    },
    {
      "cell_type": "code",
      "metadata": {
        "id": "srwWqib1X4V9"
      },
      "source": [
        "hidden=tf.keras.layers.Dense(2,activation='sigmoid')(inputs)"
      ],
      "execution_count": 7,
      "outputs": []
    },
    {
      "cell_type": "code",
      "metadata": {
        "id": "4tYyR7_rYkZr"
      },
      "source": [
        "outputs = tf.keras.layers.Dense(1,activation='sigmoid')(hidden)"
      ],
      "execution_count": 9,
      "outputs": []
    },
    {
      "cell_type": "code",
      "metadata": {
        "id": "TdfCcj0LYpmz"
      },
      "source": [
        "model=tf.keras.models.Model(inputs=inputs,outputs=outputs)"
      ],
      "execution_count": 11,
      "outputs": []
    },
    {
      "cell_type": "code",
      "metadata": {
        "colab": {
          "base_uri": "https://localhost:8080/",
          "height": 272
        },
        "id": "Kh-54iutZYWg",
        "outputId": "96b338ce-9a7d-4af9-c1ce-13a6753845e9"
      },
      "source": [
        "tf.keras.utils.plot_model(model)"
      ],
      "execution_count": 12,
      "outputs": [
        {
          "output_type": "execute_result",
          "data": {
            "image/png": "[encoded data removed]",
            "text/plain": [
              "<IPython.core.display.Image object>"
            ]
          },
          "metadata": {},
          "execution_count": 12
        }
      ]
    },
    {
      "cell_type": "code",
      "metadata": {
        "id": "21PfGCDqZpIj"
      },
      "source": [
        ""
      ],
      "execution_count": null,
      "outputs": []
    }
  ]
}