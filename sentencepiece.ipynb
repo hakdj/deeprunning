{
  "nbformat": 4,
  "nbformat_minor": 0,
  "metadata": {
    "colab": {
      "name": "sentencepiece.ipynb",
      "provenance": [],
      "authorship_tag": "ABX9TyOVRnWv5X0w1ZcjLV7rRRHN",
      "include_colab_link": true
    },
    "kernelspec": {
      "name": "python3",
      "display_name": "Python 3"
    },
    "language_info": {
      "name": "python"
    }
  },
  "cells": [
    {
      "cell_type": "markdown",
      "metadata": {
        "id": "view-in-github",
        "colab_type": "text"
      },
      "source": [
        "<a href=\"https://colab.research.google.com/github/hakdj/deeprunning/blob/master/sentencepiece.ipynb\" target=\"_parent\"><img src=\"https://colab.research.google.com/assets/colab-badge.svg\" alt=\"Open In Colab\"/></a>"
      ]
    },
    {
      "cell_type": "code",
      "metadata": {
        "colab": {
          "base_uri": "https://localhost:8080/"
        },
        "id": "LHWY_lgCIkxn",
        "outputId": "113fa683-41c2-4a54-aee5-0b1b94d8c645"
      },
      "source": [
        "!python -m pip install sentencepiece"
      ],
      "execution_count": 1,
      "outputs": [
        {
          "output_type": "stream",
          "text": [
            "Collecting sentencepiece\n",
            "  Downloading sentencepiece-0.1.96-cp37-cp37m-manylinux_2_17_x86_64.manylinux2014_x86_64.whl (1.2 MB)\n",
            "\u001b[?25l\r\u001b[K     |▎                               | 10 kB 17.7 MB/s eta 0:00:01\r\u001b[K     |▌                               | 20 kB 20.9 MB/s eta 0:00:01\r\u001b[K     |▉                               | 30 kB 20.8 MB/s eta 0:00:01\r\u001b[K     |█                               | 40 kB 19.4 MB/s eta 0:00:01\r\u001b[K     |█▍                              | 51 kB 19.5 MB/s eta 0:00:01\r\u001b[K     |█▋                              | 61 kB 19.5 MB/s eta 0:00:01\r\u001b[K     |██                              | 71 kB 20.1 MB/s eta 0:00:01\r\u001b[K     |██▏                             | 81 kB 20.0 MB/s eta 0:00:01\r\u001b[K     |██▍                             | 92 kB 20.7 MB/s eta 0:00:01\r\u001b[K     |██▊                             | 102 kB 21.7 MB/s eta 0:00:01\r\u001b[K     |███                             | 112 kB 21.7 MB/s eta 0:00:01\r\u001b[K     |███▎                            | 122 kB 21.7 MB/s eta 0:00:01\r\u001b[K     |███▌                            | 133 kB 21.7 MB/s eta 0:00:01\r\u001b[K     |███▉                            | 143 kB 21.7 MB/s eta 0:00:01\r\u001b[K     |████                            | 153 kB 21.7 MB/s eta 0:00:01\r\u001b[K     |████▎                           | 163 kB 21.7 MB/s eta 0:00:01\r\u001b[K     |████▋                           | 174 kB 21.7 MB/s eta 0:00:01\r\u001b[K     |████▉                           | 184 kB 21.7 MB/s eta 0:00:01\r\u001b[K     |█████▏                          | 194 kB 21.7 MB/s eta 0:00:01\r\u001b[K     |█████▍                          | 204 kB 21.7 MB/s eta 0:00:01\r\u001b[K     |█████▊                          | 215 kB 21.7 MB/s eta 0:00:01\r\u001b[K     |██████                          | 225 kB 21.7 MB/s eta 0:00:01\r\u001b[K     |██████▏                         | 235 kB 21.7 MB/s eta 0:00:01\r\u001b[K     |██████▌                         | 245 kB 21.7 MB/s eta 0:00:01\r\u001b[K     |██████▊                         | 256 kB 21.7 MB/s eta 0:00:01\r\u001b[K     |███████                         | 266 kB 21.7 MB/s eta 0:00:01\r\u001b[K     |███████▎                        | 276 kB 21.7 MB/s eta 0:00:01\r\u001b[K     |███████▋                        | 286 kB 21.7 MB/s eta 0:00:01\r\u001b[K     |███████▉                        | 296 kB 21.7 MB/s eta 0:00:01\r\u001b[K     |████████                        | 307 kB 21.7 MB/s eta 0:00:01\r\u001b[K     |████████▍                       | 317 kB 21.7 MB/s eta 0:00:01\r\u001b[K     |████████▋                       | 327 kB 21.7 MB/s eta 0:00:01\r\u001b[K     |█████████                       | 337 kB 21.7 MB/s eta 0:00:01\r\u001b[K     |█████████▏                      | 348 kB 21.7 MB/s eta 0:00:01\r\u001b[K     |█████████▌                      | 358 kB 21.7 MB/s eta 0:00:01\r\u001b[K     |█████████▊                      | 368 kB 21.7 MB/s eta 0:00:01\r\u001b[K     |██████████                      | 378 kB 21.7 MB/s eta 0:00:01\r\u001b[K     |██████████▎                     | 389 kB 21.7 MB/s eta 0:00:01\r\u001b[K     |██████████▌                     | 399 kB 21.7 MB/s eta 0:00:01\r\u001b[K     |██████████▉                     | 409 kB 21.7 MB/s eta 0:00:01\r\u001b[K     |███████████                     | 419 kB 21.7 MB/s eta 0:00:01\r\u001b[K     |███████████▍                    | 430 kB 21.7 MB/s eta 0:00:01\r\u001b[K     |███████████▋                    | 440 kB 21.7 MB/s eta 0:00:01\r\u001b[K     |███████████▉                    | 450 kB 21.7 MB/s eta 0:00:01\r\u001b[K     |████████████▏                   | 460 kB 21.7 MB/s eta 0:00:01\r\u001b[K     |████████████▍                   | 471 kB 21.7 MB/s eta 0:00:01\r\u001b[K     |████████████▊                   | 481 kB 21.7 MB/s eta 0:00:01\r\u001b[K     |█████████████                   | 491 kB 21.7 MB/s eta 0:00:01\r\u001b[K     |█████████████▎                  | 501 kB 21.7 MB/s eta 0:00:01\r\u001b[K     |█████████████▌                  | 512 kB 21.7 MB/s eta 0:00:01\r\u001b[K     |█████████████▊                  | 522 kB 21.7 MB/s eta 0:00:01\r\u001b[K     |██████████████                  | 532 kB 21.7 MB/s eta 0:00:01\r\u001b[K     |██████████████▎                 | 542 kB 21.7 MB/s eta 0:00:01\r\u001b[K     |██████████████▋                 | 552 kB 21.7 MB/s eta 0:00:01\r\u001b[K     |██████████████▉                 | 563 kB 21.7 MB/s eta 0:00:01\r\u001b[K     |███████████████▏                | 573 kB 21.7 MB/s eta 0:00:01\r\u001b[K     |███████████████▍                | 583 kB 21.7 MB/s eta 0:00:01\r\u001b[K     |███████████████▋                | 593 kB 21.7 MB/s eta 0:00:01\r\u001b[K     |████████████████                | 604 kB 21.7 MB/s eta 0:00:01\r\u001b[K     |████████████████▏               | 614 kB 21.7 MB/s eta 0:00:01\r\u001b[K     |████████████████▌               | 624 kB 21.7 MB/s eta 0:00:01\r\u001b[K     |████████████████▊               | 634 kB 21.7 MB/s eta 0:00:01\r\u001b[K     |█████████████████               | 645 kB 21.7 MB/s eta 0:00:01\r\u001b[K     |█████████████████▎              | 655 kB 21.7 MB/s eta 0:00:01\r\u001b[K     |█████████████████▌              | 665 kB 21.7 MB/s eta 0:00:01\r\u001b[K     |█████████████████▉              | 675 kB 21.7 MB/s eta 0:00:01\r\u001b[K     |██████████████████              | 686 kB 21.7 MB/s eta 0:00:01\r\u001b[K     |██████████████████▍             | 696 kB 21.7 MB/s eta 0:00:01\r\u001b[K     |██████████████████▋             | 706 kB 21.7 MB/s eta 0:00:01\r\u001b[K     |███████████████████             | 716 kB 21.7 MB/s eta 0:00:01\r\u001b[K     |███████████████████▏            | 727 kB 21.7 MB/s eta 0:00:01\r\u001b[K     |███████████████████▍            | 737 kB 21.7 MB/s eta 0:00:01\r\u001b[K     |███████████████████▊            | 747 kB 21.7 MB/s eta 0:00:01\r\u001b[K     |████████████████████            | 757 kB 21.7 MB/s eta 0:00:01\r\u001b[K     |████████████████████▎           | 768 kB 21.7 MB/s eta 0:00:01\r\u001b[K     |████████████████████▌           | 778 kB 21.7 MB/s eta 0:00:01\r\u001b[K     |████████████████████▉           | 788 kB 21.7 MB/s eta 0:00:01\r\u001b[K     |█████████████████████           | 798 kB 21.7 MB/s eta 0:00:01\r\u001b[K     |█████████████████████▎          | 808 kB 21.7 MB/s eta 0:00:01\r\u001b[K     |█████████████████████▋          | 819 kB 21.7 MB/s eta 0:00:01\r\u001b[K     |█████████████████████▉          | 829 kB 21.7 MB/s eta 0:00:01\r\u001b[K     |██████████████████████▏         | 839 kB 21.7 MB/s eta 0:00:01\r\u001b[K     |██████████████████████▍         | 849 kB 21.7 MB/s eta 0:00:01\r\u001b[K     |██████████████████████▊         | 860 kB 21.7 MB/s eta 0:00:01\r\u001b[K     |███████████████████████         | 870 kB 21.7 MB/s eta 0:00:01\r\u001b[K     |███████████████████████▏        | 880 kB 21.7 MB/s eta 0:00:01\r\u001b[K     |███████████████████████▌        | 890 kB 21.7 MB/s eta 0:00:01\r\u001b[K     |███████████████████████▊        | 901 kB 21.7 MB/s eta 0:00:01\r\u001b[K     |████████████████████████        | 911 kB 21.7 MB/s eta 0:00:01\r\u001b[K     |████████████████████████▎       | 921 kB 21.7 MB/s eta 0:00:01\r\u001b[K     |████████████████████████▋       | 931 kB 21.7 MB/s eta 0:00:01\r\u001b[K     |████████████████████████▉       | 942 kB 21.7 MB/s eta 0:00:01\r\u001b[K     |█████████████████████████       | 952 kB 21.7 MB/s eta 0:00:01\r\u001b[K     |█████████████████████████▍      | 962 kB 21.7 MB/s eta 0:00:01\r\u001b[K     |█████████████████████████▋      | 972 kB 21.7 MB/s eta 0:00:01\r\u001b[K     |██████████████████████████      | 983 kB 21.7 MB/s eta 0:00:01\r\u001b[K     |██████████████████████████▏     | 993 kB 21.7 MB/s eta 0:00:01\r\u001b[K     |██████████████████████████▌     | 1.0 MB 21.7 MB/s eta 0:00:01\r\u001b[K     |██████████████████████████▊     | 1.0 MB 21.7 MB/s eta 0:00:01\r\u001b[K     |███████████████████████████     | 1.0 MB 21.7 MB/s eta 0:00:01\r\u001b[K     |███████████████████████████▎    | 1.0 MB 21.7 MB/s eta 0:00:01\r\u001b[K     |███████████████████████████▌    | 1.0 MB 21.7 MB/s eta 0:00:01\r\u001b[K     |███████████████████████████▉    | 1.1 MB 21.7 MB/s eta 0:00:01\r\u001b[K     |████████████████████████████    | 1.1 MB 21.7 MB/s eta 0:00:01\r\u001b[K     |████████████████████████████▍   | 1.1 MB 21.7 MB/s eta 0:00:01\r\u001b[K     |████████████████████████████▋   | 1.1 MB 21.7 MB/s eta 0:00:01\r\u001b[K     |████████████████████████████▉   | 1.1 MB 21.7 MB/s eta 0:00:01\r\u001b[K     |█████████████████████████████▏  | 1.1 MB 21.7 MB/s eta 0:00:01\r\u001b[K     |█████████████████████████████▍  | 1.1 MB 21.7 MB/s eta 0:00:01\r\u001b[K     |█████████████████████████████▊  | 1.1 MB 21.7 MB/s eta 0:00:01\r\u001b[K     |██████████████████████████████  | 1.1 MB 21.7 MB/s eta 0:00:01\r\u001b[K     |██████████████████████████████▎ | 1.1 MB 21.7 MB/s eta 0:00:01\r\u001b[K     |██████████████████████████████▌ | 1.2 MB 21.7 MB/s eta 0:00:01\r\u001b[K     |██████████████████████████████▊ | 1.2 MB 21.7 MB/s eta 0:00:01\r\u001b[K     |███████████████████████████████ | 1.2 MB 21.7 MB/s eta 0:00:01\r\u001b[K     |███████████████████████████████▎| 1.2 MB 21.7 MB/s eta 0:00:01\r\u001b[K     |███████████████████████████████▋| 1.2 MB 21.7 MB/s eta 0:00:01\r\u001b[K     |███████████████████████████████▉| 1.2 MB 21.7 MB/s eta 0:00:01\r\u001b[K     |████████████████████████████████| 1.2 MB 21.7 MB/s \n",
            "\u001b[?25hInstalling collected packages: sentencepiece\n",
            "Successfully installed sentencepiece-0.1.96\n"
          ],
          "name": "stdout"
        }
      ]
    },
    {
      "cell_type": "code",
      "metadata": {
        "id": "8Cd9xIKtIwAX"
      },
      "source": [
        "import sentencepiece as spm"
      ],
      "execution_count": 2,
      "outputs": []
    },
    {
      "cell_type": "code",
      "metadata": {
        "colab": {
          "base_uri": "https://localhost:8080/"
        },
        "id": "CA9KSsTvI8dV",
        "outputId": "a959322f-90e0-4b21-cb16-14aa945c68c7"
      },
      "source": [
        "!curl -O https://raw.githubusercontent.com/LawrenceDuan/IMDb-Review-Analysis/master/IMDb_Reviews.csv"
      ],
      "execution_count": 3,
      "outputs": [
        {
          "output_type": "stream",
          "text": [
            "  % Total    % Received % Xferd  Average Speed   Time    Time     Time  Current\n",
            "                                 Dload  Upload   Total   Spent    Left  Speed\n",
            "100 62.8M  100 62.8M    0     0   176M      0 --:--:-- --:--:-- --:--:--  176M\n"
          ],
          "name": "stdout"
        }
      ]
    },
    {
      "cell_type": "code",
      "metadata": {
        "id": "xxgQr7ulJRhF"
      },
      "source": [
        "import pandas as pd"
      ],
      "execution_count": 4,
      "outputs": []
    },
    {
      "cell_type": "code",
      "metadata": {
        "colab": {
          "base_uri": "https://localhost:8080/",
          "height": 143
        },
        "id": "hwu2EAmaJUi2",
        "outputId": "b6426d34-d5f5-4790-d79a-ce54bf276861"
      },
      "source": [
        "df_data=pd.read_csv('./IMDb_Reviews.csv')\n",
        "df_data.head(3)"
      ],
      "execution_count": 5,
      "outputs": [
        {
          "output_type": "execute_result",
          "data": {
            "text/html": [
              "<div>\n",
              "<style scoped>\n",
              "    .dataframe tbody tr th:only-of-type {\n",
              "        vertical-align: middle;\n",
              "    }\n",
              "\n",
              "    .dataframe tbody tr th {\n",
              "        vertical-align: top;\n",
              "    }\n",
              "\n",
              "    .dataframe thead th {\n",
              "        text-align: right;\n",
              "    }\n",
              "</style>\n",
              "<table border=\"1\" class=\"dataframe\">\n",
              "  <thead>\n",
              "    <tr style=\"text-align: right;\">\n",
              "      <th></th>\n",
              "      <th>review</th>\n",
              "      <th>sentiment</th>\n",
              "    </tr>\n",
              "  </thead>\n",
              "  <tbody>\n",
              "    <tr>\n",
              "      <th>0</th>\n",
              "      <td>My family and I normally do not watch local mo...</td>\n",
              "      <td>1</td>\n",
              "    </tr>\n",
              "    <tr>\n",
              "      <th>1</th>\n",
              "      <td>Believe it or not, this was at one time the wo...</td>\n",
              "      <td>0</td>\n",
              "    </tr>\n",
              "    <tr>\n",
              "      <th>2</th>\n",
              "      <td>After some internet surfing, I found the \"Home...</td>\n",
              "      <td>0</td>\n",
              "    </tr>\n",
              "  </tbody>\n",
              "</table>\n",
              "</div>"
            ],
            "text/plain": [
              "                                              review  sentiment\n",
              "0  My family and I normally do not watch local mo...          1\n",
              "1  Believe it or not, this was at one time the wo...          0\n",
              "2  After some internet surfing, I found the \"Home...          0"
            ]
          },
          "metadata": {},
          "execution_count": 5
        }
      ]
    },
    {
      "cell_type": "code",
      "metadata": {
        "id": "iGZNUnR3L0z-"
      },
      "source": [
        "df_data= df_data[0:2000]"
      ],
      "execution_count": 8,
      "outputs": []
    },
    {
      "cell_type": "code",
      "metadata": {
        "id": "O678AUu1Jl2U"
      },
      "source": [
        "with open('./imdb_review.txt','w') as f: #close안하면 리소스 잡아먹음 현업에서는 리소스 관리도 중요\n",
        "  f.write('\\n'.join(df_data['review']))"
      ],
      "execution_count": 10,
      "outputs": []
    },
    {
      "cell_type": "code",
      "metadata": {
        "id": "coL-HjHKLNxQ"
      },
      "source": [
        "spm.SentencePieceTrainer.Train('--input=./imdb_review.txt --model_prefix=imdb --vocab_size=5000 --model_type=bpe --max_sentence_length=9999')"
      ],
      "execution_count": 15,
      "outputs": []
    },
    {
      "cell_type": "code",
      "metadata": {
        "id": "0gXj9G_zOWL_"
      },
      "source": [
        "import csv"
      ],
      "execution_count": 16,
      "outputs": []
    },
    {
      "cell_type": "code",
      "metadata": {
        "id": "E23xh-BnM6ou"
      },
      "source": [
        "df_vocab = pd.read_csv('./imdb.vocab',sep='\\t', quoting=csv.QUOTE_NONE, header=None) # \\t는 Tab임 \n",
        "df_vocab.sample(10)"
      ],
      "execution_count": null,
      "outputs": []
    },
    {
      "cell_type": "code",
      "metadata": {
        "id": "E00iYsHIN591"
      },
      "source": [
        "df_vocab.head(7)"
      ],
      "execution_count": null,
      "outputs": []
    },
    {
      "cell_type": "code",
      "metadata": {
        "colab": {
          "base_uri": "https://localhost:8080/"
        },
        "id": "Mp8nrHwbPE9E",
        "outputId": "36c58df1-79cb-4b4d-f1fa-59e53793d848"
      },
      "source": [
        "spp= spm.SentencePieceProcessor()\n",
        "spp.load('./imdb.model')"
      ],
      "execution_count": 19,
      "outputs": [
        {
          "output_type": "execute_result",
          "data": {
            "text/plain": [
              "True"
            ]
          },
          "metadata": {},
          "execution_count": 19
        }
      ]
    },
    {
      "cell_type": "code",
      "metadata": {
        "id": "GYFnkyi3QKqd"
      },
      "source": [
        "line01=\"i didn't at all think of it this way.\""
      ],
      "execution_count": 20,
      "outputs": []
    },
    {
      "cell_type": "code",
      "metadata": {
        "colab": {
          "base_uri": "https://localhost:8080/"
        },
        "id": "iCszTUXUQhbM",
        "outputId": "6b61062a-cbef-45c8-def1-c05b9cdd4e46"
      },
      "source": [
        "print(spp.encode_as_pieces(line01))"
      ],
      "execution_count": 21,
      "outputs": [
        {
          "output_type": "stream",
          "text": [
            "['▁i', '▁didn', \"'\", 't', '▁at', '▁all', '▁think', '▁of', '▁it', '▁this', '▁way', '.']\n"
          ],
          "name": "stdout"
        }
      ]
    },
    {
      "cell_type": "code",
      "metadata": {
        "colab": {
          "base_uri": "https://localhost:8080/"
        },
        "id": "0UdYFQ2SQm_j",
        "outputId": "1f51c22f-96e3-4e18-ceb7-99ad06c5f129"
      },
      "source": [
        "print(spp.encode_as_ids(line01))"
      ],
      "execution_count": 22,
      "outputs": [
        {
          "output_type": "stream",
          "text": [
            "[578, 588, 4949, 4926, 136, 175, 400, 30, 56, 77, 418, 4945]\n"
          ],
          "name": "stdout"
        }
      ]
    },
    {
      "cell_type": "code",
      "metadata": {
        "id": "e26apl1zRPTk"
      },
      "source": [
        ""
      ],
      "execution_count": null,
      "outputs": []
    }
  ]
}