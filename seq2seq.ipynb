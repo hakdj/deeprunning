{
  "nbformat": 4,
  "nbformat_minor": 0,
  "metadata": {
    "colab": {
      "name": "seq2seq.ipynb",
      "provenance": [],
      "mount_file_id": "1eo-VKI8YC-g8Wzlbow3pVEm1uUuJpyzI",
      "authorship_tag": "ABX9TyOI+y1x4mbotg7QIbDWmtkI",
      "include_colab_link": true
    },
    "kernelspec": {
      "name": "python3",
      "display_name": "Python 3"
    },
    "language_info": {
      "name": "python"
    }
  },
  "cells": [
    {
      "cell_type": "markdown",
      "metadata": {
        "id": "view-in-github",
        "colab_type": "text"
      },
      "source": [
        "<a href=\"https://colab.research.google.com/github/hakdj/deeprunning/blob/master/seq2seq.ipynb\" target=\"_parent\"><img src=\"https://colab.research.google.com/assets/colab-badge.svg\" alt=\"Open In Colab\"/></a>"
      ]
    },
    {
      "cell_type": "code",
      "metadata": {
        "id": "PyJ24VddXUZ3"
      },
      "source": [
        "import numpy as np\n"
      ],
      "execution_count": 1,
      "outputs": []
    },
    {
      "cell_type": "code",
      "metadata": {
        "colab": {
          "base_uri": "https://localhost:8080/"
        },
        "id": "6xyt5mUXXceV",
        "outputId": "b20e8b70-88a4-49b7-d630-6bab4d83ed17"
      },
      "source": [
        "index_inputs = np.load(open('./train_inputs.npy','rb'))\n",
        "index_outputs = np.load(open('./train_outputs.npy','rb'))\n",
        "index_targets = np.load(open('./train_targets.npy','rb'))\n",
        "\n",
        "type(index_inputs), type(index_outputs), type(index_targets)"
      ],
      "execution_count": 5,
      "outputs": [
        {
          "output_type": "execute_result",
          "data": {
            "text/plain": [
              "(numpy.ndarray, numpy.ndarray, numpy.ndarray)"
            ]
          },
          "metadata": {},
          "execution_count": 5
        }
      ]
    },
    {
      "cell_type": "code",
      "metadata": {
        "colab": {
          "base_uri": "https://localhost:8080/"
        },
        "id": "W_iIu1a9XsYU",
        "outputId": "e13d8db0-dc4a-4df9-f07b-892f0edc79b7"
      },
      "source": [
        "index_inputs[3:5]"
      ],
      "execution_count": 4,
      "outputs": [
        {
          "output_type": "execute_result",
          "data": {
            "text/plain": [
              "array([[ 20,  30, 107,   0,   0,   0,   0,   0,   0,   0,   0,   0,   0,\n",
              "          0,   0,   0,   0,   0,   0,   0,   0,   0,   0,   0,   0],\n",
              "       [ 93,   7,  79,   0,   0,   0,   0,   0,   0,   0,   0,   0,   0,\n",
              "          0,   0,   0,   0,   0,   0,   0,   0,   0,   0,   0,   0]])"
            ]
          },
          "metadata": {},
          "execution_count": 4
        }
      ]
    },
    {
      "cell_type": "code",
      "metadata": {
        "id": "2j8iCmEHppZL"
      },
      "source": [
        "!python -m pip install konlpy"
      ],
      "execution_count": null,
      "outputs": []
    },
    {
      "cell_type": "code",
      "metadata": {
        "id": "gNxFrgj0X1rc"
      },
      "source": [
        "import preprocess as pp"
      ],
      "execution_count": 8,
      "outputs": []
    },
    {
      "cell_type": "code",
      "metadata": {
        "colab": {
          "base_uri": "https://localhost:8080/"
        },
        "id": "yblA5OHspm_-",
        "outputId": "7c5d88e5-464c-4c51-a266-f1eb6861887c"
      },
      "source": [
        "prepro_configs = pp.json.load(open('./data_configs.json','r'))\n",
        "type(prepro_configs)"
      ],
      "execution_count": 9,
      "outputs": [
        {
          "output_type": "execute_result",
          "data": {
            "text/plain": [
              "dict"
            ]
          },
          "metadata": {},
          "execution_count": 9
        }
      ]
    },
    {
      "cell_type": "code",
      "metadata": {
        "colab": {
          "base_uri": "https://localhost:8080/"
        },
        "id": "yjkFDpoSqN8Z",
        "outputId": "cc4cae6e-e966-43b2-8758-b532f2bf9a66"
      },
      "source": [
        "prepro_configs.keys()"
      ],
      "execution_count": 10,
      "outputs": [
        {
          "output_type": "execute_result",
          "data": {
            "text/plain": [
              "dict_keys(['char2idx', 'idx2char', 'vocab_size', 'pad_symbol', 'std_symbol', 'end_symbol', 'unk_symbol'])"
            ]
          },
          "metadata": {},
          "execution_count": 10
        }
      ]
    },
    {
      "cell_type": "markdown",
      "metadata": {
        "id": "N8sQl5Urqr7O"
      },
      "source": [
        "# make model"
      ]
    },
    {
      "cell_type": "code",
      "metadata": {
        "id": "Q_pcvXJ_qR9x"
      },
      "source": [
        "import tensorflow as tf"
      ],
      "execution_count": 11,
      "outputs": []
    },
    {
      "cell_type": "markdown",
      "metadata": {
        "id": "EKn1kJYwt5wR"
      },
      "source": [
        "# encode model"
      ]
    },
    {
      "cell_type": "code",
      "metadata": {
        "id": "mSmWIr0auLiT"
      },
      "source": [
        "vocab_size = prepro_configs['vocab_size']\n",
        "latent_dim=60"
      ],
      "execution_count": 14,
      "outputs": []
    },
    {
      "cell_type": "code",
      "metadata": {
        "id": "E_I8Iq0IqwWZ"
      },
      "source": [
        "encode_input = tf.keras.Input(shape=(None,))\n",
        "encode_hidden = tf.keras.layers.Embedding(input_dim=vocab_size,output_dim=latent_dim)(encode_input)\n",
        "encode_output, state_h, state_c = tf.keras.layers.LSTM(50,return_state=True)(encode_hidden)\n",
        "encode_states = [state_h, state_c]"
      ],
      "execution_count": 15,
      "outputs": []
    },
    {
      "cell_type": "markdown",
      "metadata": {
        "id": "X_z6XeZdv_A5"
      },
      "source": [
        "# decode model"
      ]
    },
    {
      "cell_type": "code",
      "metadata": {
        "id": "OW9Qlte_vyvV"
      },
      "source": [
        "decode_input = tf.keras.Input(shape=(None,))\n",
        "decode_hidden = tf.keras.layers.Embedding(input_dim=vocab_size,output_dim=latent_dim)(decode_input)\n",
        "decode_lstm, _, _ = tf.keras.layers.LSTM(50,return_state=True, return_sequences=True)(decode_hidden, initial_state=encode_states)\n",
        "decode_output = tf.keras.layers.Dense(vocab_size,activation='softmax')(decode_lstm)"
      ],
      "execution_count": 17,
      "outputs": []
    },
    {
      "cell_type": "code",
      "metadata": {
        "id": "hxrFmd7OzXBD"
      },
      "source": [
        "model = tf.keras.models.Model(inputs=[encode_input,decode_input],outputs=decode_output)"
      ],
      "execution_count": 20,
      "outputs": []
    },
    {
      "cell_type": "code",
      "metadata": {
        "colab": {
          "base_uri": "https://localhost:8080/",
          "height": 466
        },
        "id": "zDkcCRKJ0yY5",
        "outputId": "436f0e8f-74be-45ce-fde4-e6dcb4d377f0"
      },
      "source": [
        "tf.keras.utils.plot_model(model)"
      ],
      "execution_count": 21,
      "outputs": [
        {
          "output_type": "execute_result",
          "data": {
            "image/png": "[encoded data removed]",
            "text/plain": [
              "<IPython.core.display.Image object>"
            ]
          },
          "metadata": {},
          "execution_count": 21
        }
      ]
    },
    {
      "cell_type": "code",
      "metadata": {
        "id": "MgoLMEQL4AIt"
      },
      "source": [
        "model.compile(optimizer='adam',loss='sparse_categorical_crossentropy',metrics=['acc'])"
      ],
      "execution_count": 22,
      "outputs": []
    },
    {
      "cell_type": "markdown",
      "metadata": {
        "id": "SnXgfQmj4AWw"
      },
      "source": [
        "# fit"
      ]
    },
    {
      "cell_type": "code",
      "metadata": {
        "colab": {
          "base_uri": "https://localhost:8080/"
        },
        "id": "7Fxtot_X1WxI",
        "outputId": "1d8351bb-366f-4b29-ef70-93abc4df4b74"
      },
      "source": [
        "# index_inputs, index_outputs, index_targets\n",
        "model.fit(x=[index_inputs, index_outputs],y=index_targets, batch_size=128,epochs=50)\n"
      ],
      "execution_count": 23,
      "outputs": [
        {
          "output_type": "stream",
          "text": [
            "Epoch 1/50\n",
            "1/1 [==============================] - 4s 4s/step - loss: 4.7091 - acc: 0.0000e+00\n",
            "Epoch 2/50\n",
            "1/1 [==============================] - 0s 31ms/step - loss: 4.6928 - acc: 0.0040\n",
            "Epoch 3/50\n",
            "1/1 [==============================] - 0s 31ms/step - loss: 4.6766 - acc: 0.7540\n",
            "Epoch 4/50\n",
            "1/1 [==============================] - 0s 33ms/step - loss: 4.6601 - acc: 0.8160\n",
            "Epoch 5/50\n",
            "1/1 [==============================] - 0s 32ms/step - loss: 4.6429 - acc: 0.8200\n",
            "Epoch 6/50\n",
            "1/1 [==============================] - 0s 32ms/step - loss: 4.6245 - acc: 0.8200\n",
            "Epoch 7/50\n",
            "1/1 [==============================] - 0s 42ms/step - loss: 4.6044 - acc: 0.8200\n",
            "Epoch 8/50\n",
            "1/1 [==============================] - 0s 37ms/step - loss: 4.5822 - acc: 0.8200\n",
            "Epoch 9/50\n",
            "1/1 [==============================] - 0s 37ms/step - loss: 4.5571 - acc: 0.8180\n",
            "Epoch 10/50\n",
            "1/1 [==============================] - 0s 32ms/step - loss: 4.5284 - acc: 0.8180\n",
            "Epoch 11/50\n",
            "1/1 [==============================] - 0s 44ms/step - loss: 4.4949 - acc: 0.8180\n",
            "Epoch 12/50\n",
            "1/1 [==============================] - 0s 41ms/step - loss: 4.4554 - acc: 0.8180\n",
            "Epoch 13/50\n",
            "1/1 [==============================] - 0s 44ms/step - loss: 4.4079 - acc: 0.8180\n",
            "Epoch 14/50\n",
            "1/1 [==============================] - 0s 45ms/step - loss: 4.3497 - acc: 0.8180\n",
            "Epoch 15/50\n",
            "1/1 [==============================] - 0s 36ms/step - loss: 4.2770 - acc: 0.8180\n",
            "Epoch 16/50\n",
            "1/1 [==============================] - 0s 41ms/step - loss: 4.1848 - acc: 0.8180\n",
            "Epoch 17/50\n",
            "1/1 [==============================] - 0s 36ms/step - loss: 4.0666 - acc: 0.8180\n",
            "Epoch 18/50\n",
            "1/1 [==============================] - 0s 41ms/step - loss: 3.9158 - acc: 0.8180\n",
            "Epoch 19/50\n",
            "1/1 [==============================] - 0s 36ms/step - loss: 3.7287 - acc: 0.8180\n",
            "Epoch 20/50\n",
            "1/1 [==============================] - 0s 36ms/step - loss: 3.5098 - acc: 0.8180\n",
            "Epoch 21/50\n",
            "1/1 [==============================] - 0s 36ms/step - loss: 3.2735 - acc: 0.8180\n",
            "Epoch 22/50\n",
            "1/1 [==============================] - 0s 36ms/step - loss: 3.0372 - acc: 0.8180\n",
            "Epoch 23/50\n",
            "1/1 [==============================] - 0s 33ms/step - loss: 2.8126 - acc: 0.8180\n",
            "Epoch 24/50\n",
            "1/1 [==============================] - 0s 42ms/step - loss: 2.6047 - acc: 0.8180\n",
            "Epoch 25/50\n",
            "1/1 [==============================] - 0s 41ms/step - loss: 2.4139 - acc: 0.8180\n",
            "Epoch 26/50\n",
            "1/1 [==============================] - 0s 37ms/step - loss: 2.2396 - acc: 0.8180\n",
            "Epoch 27/50\n",
            "1/1 [==============================] - 0s 35ms/step - loss: 2.0809 - acc: 0.8180\n",
            "Epoch 28/50\n",
            "1/1 [==============================] - 0s 38ms/step - loss: 1.9371 - acc: 0.8180\n",
            "Epoch 29/50\n",
            "1/1 [==============================] - 0s 43ms/step - loss: 1.8076 - acc: 0.8180\n",
            "Epoch 30/50\n",
            "1/1 [==============================] - 0s 43ms/step - loss: 1.6917 - acc: 0.8180\n",
            "Epoch 31/50\n",
            "1/1 [==============================] - 0s 34ms/step - loss: 1.5887 - acc: 0.8180\n",
            "Epoch 32/50\n",
            "1/1 [==============================] - 0s 38ms/step - loss: 1.4979 - acc: 0.8180\n",
            "Epoch 33/50\n",
            "1/1 [==============================] - 0s 39ms/step - loss: 1.4185 - acc: 0.8180\n",
            "Epoch 34/50\n",
            "1/1 [==============================] - 0s 52ms/step - loss: 1.3495 - acc: 0.8180\n",
            "Epoch 35/50\n",
            "1/1 [==============================] - 0s 36ms/step - loss: 1.2901 - acc: 0.8180\n",
            "Epoch 36/50\n",
            "1/1 [==============================] - 0s 35ms/step - loss: 1.2391 - acc: 0.8180\n",
            "Epoch 37/50\n",
            "1/1 [==============================] - 0s 31ms/step - loss: 1.1955 - acc: 0.8180\n",
            "Epoch 38/50\n",
            "1/1 [==============================] - 0s 39ms/step - loss: 1.1582 - acc: 0.8180\n",
            "Epoch 39/50\n",
            "1/1 [==============================] - 0s 33ms/step - loss: 1.1261 - acc: 0.8180\n",
            "Epoch 40/50\n",
            "1/1 [==============================] - 0s 38ms/step - loss: 1.0981 - acc: 0.8180\n",
            "Epoch 41/50\n",
            "1/1 [==============================] - 0s 35ms/step - loss: 1.0734 - acc: 0.8180\n",
            "Epoch 42/50\n",
            "1/1 [==============================] - 0s 37ms/step - loss: 1.0511 - acc: 0.8180\n",
            "Epoch 43/50\n",
            "1/1 [==============================] - 0s 35ms/step - loss: 1.0307 - acc: 0.8180\n",
            "Epoch 44/50\n",
            "1/1 [==============================] - 0s 42ms/step - loss: 1.0117 - acc: 0.8180\n",
            "Epoch 45/50\n",
            "1/1 [==============================] - 0s 36ms/step - loss: 0.9938 - acc: 0.8180\n",
            "Epoch 46/50\n",
            "1/1 [==============================] - 0s 36ms/step - loss: 0.9769 - acc: 0.8180\n",
            "Epoch 47/50\n",
            "1/1 [==============================] - 0s 35ms/step - loss: 0.9609 - acc: 0.8180\n",
            "Epoch 48/50\n",
            "1/1 [==============================] - 0s 43ms/step - loss: 0.9460 - acc: 0.8180\n",
            "Epoch 49/50\n",
            "1/1 [==============================] - 0s 42ms/step - loss: 0.9323 - acc: 0.8180\n",
            "Epoch 50/50\n",
            "1/1 [==============================] - 0s 39ms/step - loss: 0.9200 - acc: 0.8180\n"
          ],
          "name": "stdout"
        },
        {
          "output_type": "execute_result",
          "data": {
            "text/plain": [
              "<keras.callbacks.History at 0x7f729636fe50>"
            ]
          },
          "metadata": {},
          "execution_count": 23
        }
      ]
    },
    {
      "cell_type": "markdown",
      "metadata": {
        "id": "HNWMQXKF5nq_"
      },
      "source": [
        "### refer: https://github.com/NLP-kr/tensorflow-ml-nlp-tf2/blob/master/6.CHATBOT/6.4.seq2seq.ipynb\n"
      ]
    },
    {
      "cell_type": "code",
      "metadata": {
        "id": "ORST8plm5AuF"
      },
      "source": [
        ""
      ],
      "execution_count": null,
      "outputs": []
    }
  ]
}