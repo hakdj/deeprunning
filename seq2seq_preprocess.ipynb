{
  "nbformat": 4,
  "nbformat_minor": 0,
  "metadata": {
    "colab": {
      "name": "seq2seq_preprocess.ipynb",
      "provenance": [],
      "mount_file_id": "1KZkikf-AzohDLG7az21IwRZo9beJIpXn",
      "authorship_tag": "ABX9TyODL9rA9XUBU2vcG8RlA/vU",
      "include_colab_link": true
    },
    "kernelspec": {
      "name": "python3",
      "display_name": "Python 3"
    },
    "language_info": {
      "name": "python"
    }
  },
  "cells": [
    {
      "cell_type": "markdown",
      "metadata": {
        "id": "view-in-github",
        "colab_type": "text"
      },
      "source": [
        "<a href=\"https://colab.research.google.com/github/hakdj/deeprunning/blob/master/seq2seq_preprocess.ipynb\" target=\"_parent\"><img src=\"https://colab.research.google.com/assets/colab-badge.svg\" alt=\"Open In Colab\"/></a>"
      ]
    },
    {
      "cell_type": "code",
      "metadata": {
        "id": "1KN2i8_0Ft2k"
      },
      "source": [
        "!python -m pip install konlpy"
      ],
      "execution_count": null,
      "outputs": []
    },
    {
      "cell_type": "code",
      "metadata": {
        "id": "0PWltrcTF1nv"
      },
      "source": [
        "# from preprocess import *\n",
        "import preprocess as pp"
      ],
      "execution_count": 5,
      "outputs": []
    },
    {
      "cell_type": "code",
      "metadata": {
        "colab": {
          "base_uri": "https://localhost:8080/"
        },
        "id": "hkl8yl4ZGLNe",
        "outputId": "f321a25f-4c9f-40ae-e4ef-bca6089ea893"
      },
      "source": [
        "path_csv='./ChatBotData.csv_short'\n",
        "inputs, outputs = pp.load_data(path_csv)\n",
        "type(inputs), type(outputs)"
      ],
      "execution_count": 6,
      "outputs": [
        {
          "output_type": "execute_result",
          "data": {
            "text/plain": [
              "(list, list)"
            ]
          },
          "metadata": {},
          "execution_count": 6
        }
      ]
    },
    {
      "cell_type": "code",
      "metadata": {
        "colab": {
          "base_uri": "https://localhost:8080/"
        },
        "id": "jyggO3riOKQG",
        "outputId": "5435b66c-6aa0-453e-bc43-5d219bce76ee"
      },
      "source": [
        "inputs[10],outputs[10],len(inputs)"
      ],
      "execution_count": 7,
      "outputs": [
        {
          "output_type": "execute_result",
          "data": {
            "text/plain": [
              "('남자친구 교회 데려가고 싶어', '마음을 열 때까지 설득해보세요.', 20)"
            ]
          },
          "metadata": {},
          "execution_count": 7
        }
      ]
    },
    {
      "cell_type": "code",
      "metadata": {
        "colab": {
          "base_uri": "https://localhost:8080/"
        },
        "id": "Rj-3nN6nQLwu",
        "outputId": "cfe6d9f7-aeb1-4236-c2df-448e777ed7d3"
      },
      "source": [
        "path_vocab='./vocabulary.txt'\n",
        "char2idx,idx2char,vocab_size=load_vocabulary(path_csv,path_vocab)\n",
        "type(char2idx),type(idx2char),type(vocab_size)"
      ],
      "execution_count": 8,
      "outputs": [
        {
          "output_type": "execute_result",
          "data": {
            "text/plain": [
              "(dict, dict, int)"
            ]
          },
          "metadata": {},
          "execution_count": 8
        }
      ]
    },
    {
      "cell_type": "code",
      "metadata": {
        "colab": {
          "base_uri": "https://localhost:8080/"
        },
        "id": "UXuHIm3wQrAF",
        "outputId": "8eb35bce-586d-4b62-a478-705580b092d0"
      },
      "source": [
        "print(char2idx)\n",
        "print(idx2char)\n",
        "print(vocab_size)"
      ],
      "execution_count": 9,
      "outputs": [
        {
          "output_type": "stream",
          "text": [
            "{'<PAD>': 0, '<SOS>': 1, '<END>': 2, '<UNK>': 3, '운동': 4, '가상화폐': 5, '나온거': 6, '있어도': 7, '적당히': 8, '오늘': 9, '것': 10, '좋을': 11, '돈은': 12, '운동만': 13, '걸리겠어': 14, '훈훈해': 15, '달에는': 16, '빨리': 17, '전생에': 18, '데려가고': 19, '가난한': 20, '혼자를': 21, '생일인데': 22, '너무': 23, '쫄딱': 24, '때까지': 25, '같아': 26, '뭐가': 27, '생각해보세요': 28, '켜놓고': 29, '자의': 30, '좀': 31, '거예요': 32, '잘생겼어': 33, '운동을': 34, '좋다': 35, '구하셨나요': 36, '그': 37, '사세요': 38, '빠를수록': 39, '선물로': 40, '가끔': 41, '필요했던': 42, '같아요': 43, '사람도': 44, '갔어': 45, '평소에': 46, '마세요': 47, '식혀주세요': 48, '새출발': 49, '해보세요': 50, '즐기세요': 51, '따라': 52, '끄고': 53, '좋을까': 54, '승진': 55, '결단은': 56, '어서': 57, '들어올': 58, '나갔어': 59, '바빠': 60, '열': 61, '망함': 62, '궁금해': 63, '거짓말': 64, '남자친구가': 65, '땀을': 66, '가스불': 67, '돌아가서': 68, '게': 69, '남자친구': 70, '비싼데': 71, '나오세요': 72, '따뜻하게': 73, '나': 74, '좋아요': 75, '많이': 76, '가스비': 77, '집착하지': 78, '땀난다': 79, '뭐하는지': 80, '다시': 81, '더': 82, '해': 83, '보인다': 84, '하세요': 85, '나라를': 86, '필요한': 87, '마음을': 88, '나왔다': 89, '잊고': 90, '안': 91, '믿어줘': 92, '가만': 93, '켜고': 94, '혼자인게': 95, '감기': 96, '집에': 97, '가끔은': 98, '절약해봐요': 99, '다음': 100, '설득해보세요': 101, '질린다': 102, '싶어': 103, '줄까': 104, '함께': 105, '또': 106, '설움': 107, '뭘': 108, '그럴': 109, '교회': 110}\n",
            "{0: '<PAD>', 1: '<SOS>', 2: '<END>', 3: '<UNK>', 4: '운동', 5: '가상화폐', 6: '나온거', 7: '있어도', 8: '적당히', 9: '오늘', 10: '것', 11: '좋을', 12: '돈은', 13: '운동만', 14: '걸리겠어', 15: '훈훈해', 16: '달에는', 17: '빨리', 18: '전생에', 19: '데려가고', 20: '가난한', 21: '혼자를', 22: '생일인데', 23: '너무', 24: '쫄딱', 25: '때까지', 26: '같아', 27: '뭐가', 28: '생각해보세요', 29: '켜놓고', 30: '자의', 31: '좀', 32: '거예요', 33: '잘생겼어', 34: '운동을', 35: '좋다', 36: '구하셨나요', 37: '그', 38: '사세요', 39: '빠를수록', 40: '선물로', 41: '가끔', 42: '필요했던', 43: '같아요', 44: '사람도', 45: '갔어', 46: '평소에', 47: '마세요', 48: '식혀주세요', 49: '새출발', 50: '해보세요', 51: '즐기세요', 52: '따라', 53: '끄고', 54: '좋을까', 55: '승진', 56: '결단은', 57: '어서', 58: '들어올', 59: '나갔어', 60: '바빠', 61: '열', 62: '망함', 63: '궁금해', 64: '거짓말', 65: '남자친구가', 66: '땀을', 67: '가스불', 68: '돌아가서', 69: '게', 70: '남자친구', 71: '비싼데', 72: '나오세요', 73: '따뜻하게', 74: '나', 75: '좋아요', 76: '많이', 77: '가스비', 78: '집착하지', 79: '땀난다', 80: '뭐하는지', 81: '다시', 82: '더', 83: '해', 84: '보인다', 85: '하세요', 86: '나라를', 87: '필요한', 88: '마음을', 89: '나왔다', 90: '잊고', 91: '안', 92: '믿어줘', 93: '가만', 94: '켜고', 95: '혼자인게', 96: '감기', 97: '집에', 98: '가끔은', 99: '절약해봐요', 100: '다음', 101: '설득해보세요', 102: '질린다', 103: '싶어', 104: '줄까', 105: '함께', 106: '또', 107: '설움', 108: '뭘', 109: '그럴', 110: '교회'}\n",
            "111\n"
          ],
          "name": "stdout"
        }
      ]
    },
    {
      "cell_type": "code",
      "metadata": {
        "colab": {
          "base_uri": "https://localhost:8080/"
        },
        "id": "QwhgOw6VQ4MF",
        "outputId": "af3d39a7-60e2-4982-e2a2-bbf5ea7bbfa9"
      },
      "source": [
        "idx_inputs, input_seq_len = pp.enc_processing(inputs,char2idx)\n",
        "type(idx_inputs), len(input_seq_len)"
      ],
      "execution_count": 11,
      "outputs": [
        {
          "output_type": "execute_result",
          "data": {
            "text/plain": [
              "(numpy.ndarray, 20)"
            ]
          },
          "metadata": {},
          "execution_count": 11
        }
      ]
    },
    {
      "cell_type": "code",
      "metadata": {
        "colab": {
          "base_uri": "https://localhost:8080/"
        },
        "id": "tDEZWMHSRSPE",
        "outputId": "f475977f-c9d0-4c5d-e0ad-91e029f2b82b"
      },
      "source": [
        "idx_inputs[3:5]"
      ],
      "execution_count": 12,
      "outputs": [
        {
          "output_type": "execute_result",
          "data": {
            "text/plain": [
              "array([[ 20,  30, 107,   0,   0,   0,   0,   0,   0,   0,   0,   0,   0,\n",
              "          0,   0,   0,   0,   0,   0,   0,   0,   0,   0,   0,   0],\n",
              "       [ 93,   7,  79,   0,   0,   0,   0,   0,   0,   0,   0,   0,   0,\n",
              "          0,   0,   0,   0,   0,   0,   0,   0,   0,   0,   0,   0]])"
            ]
          },
          "metadata": {},
          "execution_count": 12
        }
      ]
    },
    {
      "cell_type": "code",
      "metadata": {
        "colab": {
          "base_uri": "https://localhost:8080/"
        },
        "id": "6b5KhW2XRYVu",
        "outputId": "a8a665d6-14bf-48fe-cf25-6a36d431ccbe"
      },
      "source": [
        "idx_outputs, output_seq_len = pp.dec_output_processing(outputs,char2idx)\n",
        "type(idx_outputs), len(output_seq_len)"
      ],
      "execution_count": 13,
      "outputs": [
        {
          "output_type": "execute_result",
          "data": {
            "text/plain": [
              "(numpy.ndarray, 20)"
            ]
          },
          "metadata": {},
          "execution_count": 13
        }
      ]
    },
    {
      "cell_type": "code",
      "metadata": {
        "colab": {
          "base_uri": "https://localhost:8080/"
        },
        "id": "yXpPRG2KR6AM",
        "outputId": "6e495080-b9fd-4428-82d5-057d5ffcc442"
      },
      "source": [
        "idx_outputs[3:5]"
      ],
      "execution_count": 14,
      "outputs": [
        {
          "output_type": "execute_result",
          "data": {
            "text/plain": [
              "array([[ 1, 12, 81, 58, 32,  0,  0,  0,  0,  0,  0,  0,  0,  0,  0,  0,\n",
              "         0,  0,  0,  0,  0,  0,  0,  0,  0],\n",
              "       [ 1, 66, 48,  0,  0,  0,  0,  0,  0,  0,  0,  0,  0,  0,  0,  0,\n",
              "         0,  0,  0,  0,  0,  0,  0,  0,  0]])"
            ]
          },
          "metadata": {},
          "execution_count": 14
        }
      ]
    },
    {
      "cell_type": "code",
      "metadata": {
        "colab": {
          "base_uri": "https://localhost:8080/"
        },
        "id": "ZmmcRI3NR86u",
        "outputId": "f7868cfc-7ecd-49d6-e142-620d0fe13b4d"
      },
      "source": [
        "idx_targets = pp.dec_target_processing(outputs,char2idx)\n",
        "type(idx_targets), len(idx_targets)"
      ],
      "execution_count": 16,
      "outputs": [
        {
          "output_type": "execute_result",
          "data": {
            "text/plain": [
              "(numpy.ndarray, 20)"
            ]
          },
          "metadata": {},
          "execution_count": 16
        }
      ]
    },
    {
      "cell_type": "code",
      "metadata": {
        "colab": {
          "base_uri": "https://localhost:8080/"
        },
        "id": "51ZCarNfSXy3",
        "outputId": "e9e65ac8-f24b-47db-921c-72ee661d4841"
      },
      "source": [
        "idx_targets[3:5]"
      ],
      "execution_count": 17,
      "outputs": [
        {
          "output_type": "execute_result",
          "data": {
            "text/plain": [
              "array([[12, 81, 58, 32,  2,  0,  0,  0,  0,  0,  0,  0,  0,  0,  0,  0,\n",
              "         0,  0,  0,  0,  0,  0,  0,  0,  0],\n",
              "       [66, 48,  2,  0,  0,  0,  0,  0,  0,  0,  0,  0,  0,  0,  0,  0,\n",
              "         0,  0,  0,  0,  0,  0,  0,  0,  0]])"
            ]
          },
          "metadata": {},
          "execution_count": 17
        }
      ]
    },
    {
      "cell_type": "code",
      "metadata": {
        "id": "-o2pNylwUDZN"
      },
      "source": [
        "import numpy as np"
      ],
      "execution_count": 20,
      "outputs": []
    },
    {
      "cell_type": "code",
      "metadata": {
        "id": "sp_tunIFUFEN"
      },
      "source": [
        "np.save(open('./train_inputs.npy','wb'),idx_inputs)"
      ],
      "execution_count": 22,
      "outputs": []
    },
    {
      "cell_type": "code",
      "metadata": {
        "id": "dYB0b9B4Ux1U"
      },
      "source": [
        "np.save(open('./train_outputs.npy','wb'),idx_outputs)"
      ],
      "execution_count": 23,
      "outputs": []
    },
    {
      "cell_type": "code",
      "metadata": {
        "id": "yLp87Vy4Vlu0"
      },
      "source": [
        "np.save(open('./train_targets.npy','wb'),idx_targets)"
      ],
      "execution_count": 24,
      "outputs": []
    },
    {
      "cell_type": "code",
      "metadata": {
        "id": "gPR06On9Vo7N"
      },
      "source": [
        "data_configs=dict()"
      ],
      "execution_count": 25,
      "outputs": []
    },
    {
      "cell_type": "code",
      "metadata": {
        "id": "hVY5MSGqVwpU"
      },
      "source": [
        "data_configs['char2idx']=char2idx\n",
        "data_configs['idx2char']=idx2char\n",
        "data_configs['vocab_size']=vocab_size\n",
        "\n",
        "data_configs['pad_symbol'] = '<PAD>'\n",
        "data_configs['std_symbol'] = '<STD>'\n",
        "data_configs['end_symbol'] = '<END>'\n",
        "data_configs['unk_symbol'] = '<UNK>'\n"
      ],
      "execution_count": 26,
      "outputs": []
    },
    {
      "cell_type": "code",
      "metadata": {
        "id": "WHhFR6SDWmXX"
      },
      "source": [
        "pp.json.dump(data_configs,open('./data_configs.json','w'))"
      ],
      "execution_count": 28,
      "outputs": []
    },
    {
      "cell_type": "code",
      "metadata": {
        "id": "vYDkZLIUWwc1"
      },
      "source": [
        ""
      ],
      "execution_count": null,
      "outputs": []
    }
  ]
}